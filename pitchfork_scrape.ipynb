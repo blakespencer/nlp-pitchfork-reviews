{
 "cells": [
  {
   "cell_type": "markdown",
   "metadata": {},
   "source": [
    "### Natrual Language Processing Project:<br>An exploration into Ptichfork Music Reviews\n",
    "\n",
    "Blake Spencer<br>\n",
    "March 2019\n",
    "\n",
    "The goal of this project is to understand how music reivews are written, and see if there are differences between genres or how well the review is written.\n",
    "\n",
    "You can see my blog post about the project here:<br>\n",
    "https://blake-spencer-projects.herokuapp.com/nlp\n",
    "\n",
    "The main steps were: <br>\n",
    "\n",
    "1. **Scrape all 21000 reviews and save them in a CSV** (this file)\n",
    "2. [Clean the text](https://github.com/blakespencer/nlp-pitchfork-reviews/blob/master/cleaning_data.ipynb)\n",
    "3. [Topic Model](https://github.com)\n",
    "4. [Visualize the Data](https://blake-spencer-projects.herokuapp.com/nlp)\n",
    "\n",
    "Each of the links above is a Jupyter Notebook file with Python code to complete each step.\n",
    "\n",
    "The Flask App backend:\n",
    "\n",
    "- [Flask app code in Python](https://github.com/blakespencer/personal-site-backend)\n",
    "\n",
    "The React App frontend:\n",
    "\n",
    "- [React app code in Javascript](https://github.com/blakespencer/personal-site-frontend)\n"
   ]
  },
  {
   "cell_type": "markdown",
   "metadata": {},
   "source": [
    "This is an example of how to scrape the reviews. The python script [here](https://github.com/blakespencer/nlp-pitchfork-reviews/blob/master/pitchfork_scrape.py) was run on AWS"
   ]
  },
  {
   "cell_type": "code",
   "execution_count": 1,
   "metadata": {},
   "outputs": [],
   "source": [
    "from bs4 import BeautifulSoup\n",
    "import requests\n",
    "import numpy\n",
    "import time\n",
    "import csv"
   ]
  },
  {
   "cell_type": "code",
   "execution_count": 2,
   "metadata": {},
   "outputs": [],
   "source": [
    "url = 'https://pitchfork.com/reviews/albums/?page={}'"
   ]
  },
  {
   "cell_type": "code",
   "execution_count": 3,
   "metadata": {},
   "outputs": [],
   "source": [
    "def get_review_hrefs(index):\n",
    "    output = []\n",
    "    url_page = url.format(index)\n",
    "    response = requests.get(url_page)\n",
    "    while(response.status_code != 200):\n",
    "        time.sleep(numpy.random.exponential(5, 1))\n",
    "        response = requests.get(url_page)\n",
    "    html = response.text\n",
    "    soup = BeautifulSoup(html, 'lxml')\n",
    "    reviews = soup.find('div', {'class':'fragment-list'}).find_all('div', {'class': 'review'})\n",
    "    for review in reviews:\n",
    "        href = review.find('a')\n",
    "        output.append('https://pitchfork.com' + href.get('href'))\n",
    "    return output\n",
    "    "
   ]
  },
  {
   "cell_type": "code",
   "execution_count": 4,
   "metadata": {},
   "outputs": [
    {
     "data": {
      "text/plain": [
       "['https://pitchfork.com/reviews/albums/chaka-khan-hello-happiness/',\n",
       " 'https://pitchfork.com/reviews/albums/sir-babygirl-crush-on-me/',\n",
       " 'https://pitchfork.com/reviews/albums/efdemin-new-atlantis/',\n",
       " 'https://pitchfork.com/reviews/albums/nate-young-volume-one-dilemmas-of-identity/',\n",
       " 'https://pitchfork.com/reviews/albums/avril-lavigne-head-above-water/',\n",
       " 'https://pitchfork.com/reviews/albums/elena-setien-another-kind-of-revolution/',\n",
       " 'https://pitchfork.com/reviews/albums/cherushii-maria-minerva-cherushii-and-maria-minerva/',\n",
       " 'https://pitchfork.com/reviews/albums/jozef-van-wissem-jim-jarmusch-an-attempt-to-draw-aside-the-veil/',\n",
       " 'https://pitchfork.com/reviews/albums/tortoise-tnt/',\n",
       " 'https://pitchfork.com/reviews/albums/various-artists-powder-in-space/',\n",
       " 'https://pitchfork.com/reviews/albums/perfect-son-cast/',\n",
       " 'https://pitchfork.com/reviews/albums/black-taffy-elder-mantis/']"
      ]
     },
     "execution_count": 4,
     "metadata": {},
     "output_type": "execute_result"
    }
   ],
   "source": [
    "get_review_hrefs(1)"
   ]
  },
  {
   "cell_type": "code",
   "execution_count": 5,
   "metadata": {},
   "outputs": [
    {
     "data": {
      "text/plain": [
       "array([4.00650832])"
      ]
     },
     "execution_count": 5,
     "metadata": {},
     "output_type": "execute_result"
    }
   ],
   "source": [
    "numpy.random.exponential(5, 1)"
   ]
  },
  {
   "cell_type": "code",
   "execution_count": 6,
   "metadata": {},
   "outputs": [],
   "source": [
    "def get_album_info(href):\n",
    "    response = requests.get(href)\n",
    "    while(response.status_code != 200):\n",
    "        time.sleep(numpy.random.exponential(5, 1))\n",
    "        response = requests.get(url_page)\n",
    "    html = response.text\n",
    "    soup = BeautifulSoup(html, 'lxml')\n",
    "    review_details = soup.find('div', {'class': 'review-detail'})\n",
    "    ablum_score = review_details.find('span', {'class': 'score'}).text\n",
    "    album_year = review_details.find('span', {'class': 'single-album-tombstone__meta-year'}).text[-4:]\n",
    "    artist = (review_details\n",
    "              .find('ul', {'class': 'artist-links artist-list single-album-tombstone__artist-links'}).text)\n",
    "    album_name = review_details.find('h1', {'class': 'single-album-tombstone__review-title'}).text\n",
    "    try:\n",
    "        text = \"\".join([i.text for i in (review_details\n",
    "         .find('div', {'class': 'row review-body'})\n",
    "         .find('div', {'class', 'review-detail__article-content'})\n",
    "         .find('div', {'class': 'contents dropcap'})\n",
    "         .find_all('p')\n",
    "        )])\n",
    "    except:\n",
    "        text = ''\n",
    "    try: \n",
    "        genres = ([i.text for i in review_details\n",
    "                   .find('div', {'class': 'article-meta article-meta--reviews'})\n",
    "                   .find('ul', {'class': 'genre-list genre-list--before'})\n",
    "                   .find_all('li')\n",
    "                   ])\n",
    "    except:\n",
    "        genres = []\n",
    "    review_date = (review_details\n",
    "                   .find('div', {'class': 'article-meta article-meta--reviews'})\n",
    "                   .find('time').text\n",
    "                  )\n",
    "    return {'ablum_score': ablum_score,\n",
    "            'album_year': album_year,\n",
    "            'artist': artist,\n",
    "            'album_name': album_name,\n",
    "            'text': text,\n",
    "            'genres': ', '.join(genres),\n",
    "            'review_date': review_date\n",
    "           }\n",
    "    \n",
    "    "
   ]
  },
  {
   "cell_type": "code",
   "execution_count": 7,
   "metadata": {},
   "outputs": [],
   "source": [
    "one_row = [get_album_info('https://pitchfork.com/reviews/albums/tortoise-tnt/')]"
   ]
  },
  {
   "cell_type": "code",
   "execution_count": 8,
   "metadata": {},
   "outputs": [],
   "source": [
    "keys = one_row[0].keys()\n",
    "with open('test.csv', 'w') as output_file:\n",
    "    dict_writer = csv.DictWriter(output_file,  fieldnames=keys)\n",
    "    dict_writer.writeheader()\n",
    "    dict_writer.writerows(one_row)"
   ]
  },
  {
   "cell_type": "code",
   "execution_count": 195,
   "metadata": {},
   "outputs": [
    {
     "data": {
      "text/plain": [
       "['ablum_score',\n",
       " 'album_year',\n",
       " 'artist',\n",
       " 'album_name',\n",
       " 'text',\n",
       " 'genres',\n",
       " 'review_date']"
      ]
     },
     "execution_count": 195,
     "metadata": {},
     "output_type": "execute_result"
    }
   ],
   "source": [
    "list(keys)"
   ]
  },
  {
   "cell_type": "code",
   "execution_count": 178,
   "metadata": {},
   "outputs": [
    {
     "data": {
      "text/plain": [
       "[{'ablum_score': '9.0',\n",
       "  'album_year': '1998',\n",
       "  'artist': 'Tortoise',\n",
       "  'album_name': 'TNT',\n",
       "  'text': 'Imagine a graphic showing all the bands the five members of Tortoise were in before they came together and then all the bands they went on to play with after. At the top of the funnel you have groups ranging from dreamy psych-rock to earthy post-punk crunch, including Eleventh Dream Day, Bastro, Slint, and the Poster Children; on the “post-Tortoise” end are groups focusing on electro-jazz and twangy instrumental rock like Isotope 217, Chicago Underground, and Brokeback. In this graphic, Tortoise is the choke point, the one project that has elements of all these sounds but is never defined by nor committed to any of them.Instead, Tortoise floats free, a planchette moving over a Ouija board guided by 10 sets of fingers, where everyone watches the arrow float in one direction but no one is quite sure how it gets there or who is doing the pushing. No album in the band’s initial run embodied that like their third, 1998’s TNT. Weirdly beautiful and impossible to pin down, TNT was a fulcrum, a place where the musical values of the past (instrumental proficiency, deliberate composition) met the digital future.But first we should start with that past, with a rhythm section, or rather, two of them. The first of these came together when drummer John Herndon and bassist Doug McCombs became friends and started playing together in Chicago in the early 1990s. Entering a studio with producer Brad Wood to record an early single, Herndon and McCombs overdubbed multiple parts to flesh out the sound but realized they needed more musicians for what they had in mind. They played the tapes for their acquaintances, drummer John McEntire and bassist Bundy K. Brown, who formed the rhythm section for the Louisville-based post-hardcore group Bastro, and soon after, the four players, along with percussionist Dan Bitney, became Tortoise.If the early ’90s was the perfect time for a band like Tortoise to emerge, Chicago was the perfect place. The city’s burgeoning independent music scene was attracting national attention. After the post-Nirvana alternative rock explosion, the hunt for “the next Seattle” was on, and Chicago was one of the candidates. In 1993, Billboard published a piece touting Chicago as “Cutting Edge’s New Capital,” citing the buzz around artists like Liz Phair, Urge Overkill, and Smashing Pumpkins. But if the national press was more focused on the MTV-ready alt acts, that meant that the underground was free to do their thing far from the glare of the spotlight. For Chicago, the building blocks of such a scene were the city’s record labels, particularly Touch and Go, Drag City, and, beginning in 1995, when it moved from New York, an upstart imprint called Thrill Jockey launched by former Atlantic A&R rep Bettina Richards.After bassist Brown had been replaced by ex-Slint guitarist and bassist Dave Pajo, Tortoise began moving fluidly between musical worlds. An experimental strain of music using rock instrumentation was emerging, and “post-rock” seemed to fit as a blanket description. Initially, the term applied to UK bands like Disco Inferno and Bark Psychosis, but a framework for understanding this music from the U.S. was laid out by critic Simon Reynolds in a late 1995 piece for The Wire. As Reynolds pointed out, the American flavor of post-rock (the piece highlights Tortoise, Labradford, UI, Stars of the Lid, and more) could be thought of as anti-grunge, a music that suggested a headier and less earthbound alternative to the alternative. “Grunge literally means ‘grime,’ ‘muck,’ ‘dirt,’ Reynolds wrote. “It’s appropriate that so many of those in revolt against Grunge’s earthly passion have turned to science fiction and outer space in order to free up their imaginations.”Guitars dominated the grunge-derived strand of music, but post-rock left room for electronics and other instruments. McEntire was Tortoise’s resident tech wizard, and the band’s M.O. moved from the thudding beats of the debut into something that could fit with what was happening with various strands of electronic music. On Virgin’s 1995 set of dark atmospheric electronica, Macro Dub Infection, Tortoise appeared alongside Spring Heel Jack, 4 Hero, Tricky, and the Mad Professor. And in 1996, they were included in Mo’ Wax’s blunted head-nodding 2-CD trip-hop set Headz 2A, sandwiched between songs by DJ Krush and Massive Attack. Tortoise didn’t exactly fit on either compilation—they were too disjointed, too ready to leave the groove behind if something else caught their fancy. But these compilation placements helped to reframe their music as a studio creation first, something assembled from parts.Remixing was in vogue, and Tortoise embraced it. The astonishing 20-minute journey “Djed,” the opening track from their second album, 1996’s Millions Now Living Will Never Die, put the idea of after-performance manipulation at the center of the piece, as a deep-pocket groove is born, develops, and shatters halfway through in a moment of digital haywire that sounded like a mistake. That garbled transmission when the piece implodes provided a clue as to what the next record might be about.TNT took the ideas of “Djed” further into the creative possibilities of nonlinear editing. It was recorded to hard disk via Pro Tools, a relatively new idea on the music scene when they started working on the album in late 1996 (Stereolab’s Dots and Loops, engineered by McEntire around the same time, was another early entry for the technology). TNT is a record where copy, cut, paste, and undo reign supreme. Individual parts were worked up in rehearsals, recorded in various combinations, and later reconfigured into new pieces of music by McEntire and the band.One of the delicious tensions of TNT is its ex post facto assembly. It doesn’t really sound like music created by careful manipulation of each bit and put together from parts. You almost always have a sense that individual people, not machines, are playing each part and even though the players’ skill ranges from “highly accomplished” to “virtuoso,” the pieces also sound human. You can see hands on keys and people standing over drum kits. Beats are a bit off-kilter, the guitar seems in dialogue with the bass.TNT’s opening title track is the most live-sounding cut on the record, but it, too, was carefully built one part at a time. As it begins, the cymbals and snare taps are like the tide rolling in, the skitters and crashes are as jazzy as Tortoise get, and out of this foamy pile emerges Jeff Parker’s immortal guitar line. Parker was new to the band, and was the first player to bring serious jazz chops, with his history with Chicago’s legendary collective AACM. He announced his arrival in Tortoise with a guitar phrase that might be the group’s most memorable single moment, a riff that sums up not only the album’s mood but the spirit of an entire era. Parker’s 12-note phrase seems to ask a question and then half answer it, and because it conveys the feeling of an incomplete thought, it leaves a space for the listener to fill. Driven by that guitar refrain, which loops throughout the track, “TNT” folds in horns, a sequencer, and chunky bass as Parker offers counterpoint phrases. You can feel both how “played” it is alongside the album’s modular nature, where each part is slid into place as it grows and then explodes. “TNT” conveys possibility—it’s a musical expression of what it feels like to wonder about the future on an album that feels like it’s living inside of it.Nothing else on the record is quite so dynamic or organic. Instead, TNT settles into a liminal zone that straddles genres and threatens to slip into the background but never does. It’s a vague record, but that’s actually one of its strengths—the music frames uncertainty, leaves avenues unexplored, and sounds a little different each time you hear it. Many of the tracks flow one into the next, and motifs appear and then reappear later. A few songs become loosely joined pairs as one idea is introduced and then explored later from a different angle. It’s an album that seems to be in conversation with itself.The hiss of the closing cymbals in “TNT” cross-fades into the bass-driven mood piece “Swung From the Gutters,” a quiet track that feels like a lost interlude on the Grateful Dead’s Blues for Allah. This focus on a simple melody connects it to “The Suspension Bridge at Iguazú Falls,” which shows up later on the album but unfolds at a much more deliberate pace. None of these nods to genre are played completely straight. “I Set My Face to the Hillside” opens with the voices of playing children before a nylon-stringed guitar enters, carrying a memory of flamenco that blooms out like the soundtracks of Ennio Morricone. That sound was already an established template for Tortoise, but here they tweak it. On “Set My Face,” you can almost hear the clop of horseshoes in the drums, but then the main melody enters, played on melodica, and you imagine Augustus Pablo meeting the Ventures uptown.Other references are more of-the-moment. On “Almost Always Is Nearly Enough,” Tortoise do a convincing imitation of the squelching, endearingly awkward electro-pop that Mouse on Mars was releasing on Thrill Jockey around this time, complete with fluttering programmed beats and a squawking robotic vocal. That vocal continues through “Jetty,” which gets close to dance music proper, with a jittery forward-leaning beat. “The Equator” is loping electro, a wobbly gurgle of a bassline percolating below a twinkly electronic drone and a slide guitar. The defining word for all these tracks is “almost”—they hint at the work of other artists and embody a range of styles, but they never go all the way. Tortoise were never interested in making actual dance music, the same way they never wanted to improvise in a conventional way. The music is about what happens in the cracks.“The focus is definitely shifting to the treble over the last couple of records,” McEntire told Billboard in early 1998. He was talking about the use of mallet instruments, especially the marimba, which pops up frequently on TNT. “Ten-Day Interval” and its companion piece “Four-Day Interval” pick up the Steve Reich thread that wound through parts of Millions Now Living and make it more explicit. “Ten-Day” is comparatively dense and busy, while “Four-Day” feels like a ghost of its predecessor, ticking along at half the pace and unfolding with twice the space. Tortoise’s take on Reichian repetition has an appealing pop edge to it, foregoing long-form trance induction and instead laying out a basic premise: tweak the rhythm with bits of piano, bass, and percussion, and get out. All the pieces function together, and none, with the possible exception of the title track, draw undue attention to themselves.For their first two albums, Tortoise received almost nothing but raves, but the reaction to TNT was initially mixed. It seemed to pull back slightly after the first two albums strained against limitations. Where the band once shattered conventions, now their music was quiet, pretty, and worked in the background of a dinner party. SPIN thought TNT was accomplished but ultimately bloodless and antiseptic, while The Wire called it “one of the least explosive records ever made, and one of the most gently perplexing.” Neither criticism is unfair, but both inadvertently point to what makes this record special—its essential in-between-ness. Jeff Parker told CMJ in 1998, “People expect everything to be so obvious. But life isn’t like that, so why should music be like that?” TNT is not about certainty. It’s a free-floating work that tends to find a different meaning everywhere it lands, an album that’s beautiful on the surface but gets harder to parse the deeper you go. To enjoy it is to embrace that uneasy sense of not-knowing, of luxuriating in a sound that doesn’t tell you what to feel.',\n",
       "  'genres': 'Experimental, Rock',\n",
       "  'review_date': 'February 17 2019'}]"
      ]
     },
     "execution_count": 178,
     "metadata": {},
     "output_type": "execute_result"
    }
   ],
   "source": [
    "one_row"
   ]
  },
  {
   "cell_type": "code",
   "execution_count": null,
   "metadata": {},
   "outputs": [],
   "source": [
    "def write_csv_reviews(lower_range, upper_range):\n",
    "    keys = ([\n",
    "             'ablum_score',\n",
    "             'album_year',\n",
    "             'artist',\n",
    "             'album_name',\n",
    "             'text',\n",
    "             'genres',\n",
    "             'review_date'\n",
    "            ])\n",
    "    rows = []\n",
    "    count = 0\n",
    "    for i in range(lower_range, upper_range + 1):\n",
    "        sleep_seconds = numpy.random.exponential(5, 1)\n",
    "        time.sleep(sleep_seconds)\n",
    "        hrefs = get_review_hrefs(i)\n",
    "        for link in hrefs:  \n",
    "            count += 1\n",
    "            print(count)\n",
    "            print(link)\n",
    "            rows.append(get_album_info(link))\n",
    "    with open('{}_{}.csv'.format(lower_range, upper_range), 'w') as output_file: \n",
    "        dict_writer = csv.DictWriter(output_file,  fieldnames=keys)\n",
    "        dict_writer.writeheader()\n",
    "        dict_writer.writerows(rows)\n",
    "                \n",
    "            "
   ]
  },
  {
   "cell_type": "code",
   "execution_count": 9,
   "metadata": {},
   "outputs": [],
   "source": [
    "problem_url = 'https://pitchfork.com/reviews/albums/cocteau-twins-treasure-hiding-the-fontana-years/'"
   ]
  },
  {
   "cell_type": "code",
   "execution_count": 11,
   "metadata": {},
   "outputs": [
    {
     "data": {
      "text/plain": [
       "[{'ablum_score': '8.0',\n",
       "  'album_year': ' • ',\n",
       "  'artist': 'This Heat',\n",
       "  'album_name': 'Repeat/Metal',\n",
       "  'text': 'This Heat’s music has always felt unstable and unsettled. The work that this London post-punk trio created between 1979 and 1981, over two studio albums and a lone EP,  was a charged concoction made from equal parts dub, world music, musique concrète-inspired tape-loop experiments, and progressive rock. But perfection was never the goal: The records were rough, unpolished flashes of an ongoing, ferocious creative process, with nearly all the material starting abruptly and ending with either a hard edit or a slow fadeout. Listening to them felt like catching little snapshots when the studio door swung open for a few tantalizing minutes.This aesthetic was born of This Heat’s working methods, which found the three men (drummer Charles Hayward and multi-instrumentalists Charles Bullen and Gareth Williams) spending hours recording jam sessions in their studio, Cold Storage, a former meat locker in a disused factory. They would choose the best bits from those experiments to build upon and refine, or use snippets of tape as samples during their live sets. That didn’t end once they got into a proper recording studio. The neck-snapping version of “Horizontal Hold” on their self-titled debut, from 1979, opens with a snippet of a lo-fi demo of the song, and “Graphic/Varispeed,” the 11-minute drone piece that serves as the flipside of 1980’s “Health and Efficiency,” is an unsettling flood of organ tones warped by pitch control. Nothing was left well enough alone. As the working motto for This Heat went: “All possible processes. All channels open. Twenty-four-hour alert.”The evolution of their songs didn’t begin or end there, as proven by the three reissues out this month from Light in the Attic. Filling in the gaps of the six fertile, volatile years the original trio had together (Williams left in 1982 and, after one last European tour with a pair of replacements, the band dissolved), these collections of live recordings and radio sessions, as well as a posthumously released EP of material from 1979 and 1980, find This Heat feeling their way around this still-fresh material or attacking it from new angles as they stretched the music’s crinkled edges as far as they could.While they had only been together a year when they entered Maida Vale Studios to record a pair of 1977 sessions for the tastemaking BBC radio DJ John Peel, that material, compiled as Made Available (originally released in 1996), reveals just how clear their collective vision was from the start. Hayward and Bullen were already veterans of the UK music scene, with the former having played in Phil Manzanera’s pre-Roxy Music prog-jazz outfit Quiet Sun. Williams, on the other hand, had never picked up an instrument before being coaxed into the fold. That combination of practiced abilities and naive playfulness was key to This Heat’s sound. On Made Available’s “Horizontal Hold,” Williams wrestles with rumbling bass tones and squealing organ chords while Bullen and Hayward settle into a jagged, stop-start groove; the three instrumentals unique to this recording (“Basement Boy,” “Sitting,” and “Slither”) fold droning tape loops in with clarinet swells and shards of piano, giving them all a grey pallor.The four songs from these sessions that wound up re-recorded for This Heat and Deceit both gain and lose something in comparison to their later renditions. The Maida Vale recording of “Not Waving,” for example, suggests the sensation of being on a creaking ship with slowly yawing loops and clanking percussion—a fitting accompaniment to a song about drowning. The album version, with its emphasis on piercing organ tones and a more agitated vocal turn, feels like the aftermath, a call from the beyond. It’s far less affecting. Meanwhile, the impact of the oblique rhythms and convulsing guitar chords on the Maida Vale sessions’ “Horizontal” and “Makeshift Swahili” is even greater without the tape splices and unnatural BPM jumps of their later renditions.Live 80/81 lacks some of the nuance of both the studio albums and Made Available, which could likely be blamed on the very rough sound quality. (According to the liner notes, this compilation comes from recordings made “to cassette using a stereo mic placed near the soundboard.”) But what shines through the murk is twofold: not just the way their experiments yielded such a sturdy framework for each song, but also the extent to which the band was willing to continue manipulating and stretching those forms. That could be something as simple as Bullen’s guitar solo on “Horizontal,” which slips East African-inspired phrases in with some piercing Sonny Sharrock-like flurries. Or it could be slightly more extreme like the more emphatic drumming on “Twilight Furniture” that takes a once-pleasant ramble into a tumble down a rocky bluff.This Heat’s commitment to treating everything they recorded as raw material is most clearly represented on Repeat/Metal, a vinyl re-release of a 1993 CD (minus a 33 1/3 version of “Graphic/Varispeed,” from the Health & Efficiency EP). For “Repeat,” the band returns to the stunning “24 Track Loop” from This Heat, extending it out to a glorious 20 minutes. The effect was akin to a dub remix or an early hip-hop DJ juggling a perfect drum break, cutting between two records as the dancefloor reached increasingly higher levels of ecstasy. This Heat achieved the same effect through the mixing board and the use of Harmonizer, sending the undulating, narcotic grooves of the original even further into the infinite. The counterpart on the flipside, “Metal,” is another marvel of loops and edits, like listening to a wagon carrying scraps of sheet metal and lengths of pipes trundling along an uneven pass.In a recent interview with David Grubbs, Hayward called the music of This Heat “a living thing that’s actually forty years old.” He and Bullen have returned to this material in recent years, performing with a gaggle of younger musicians as This Is Not This Heat. The footage of the band that’s available, including their set at this year’s Pitchfork Fest, bears out what Hayward, Bullen, and Williams were attempting to show in the late ’70s and early ’80s and what these reissues confirm: To create music that will remain alive for four decades, it needs to be pliable and open to transformation.',\n",
       "  'genres': 'Experimental',\n",
       "  'review_date': 'August 2 2018'}]"
      ]
     },
     "execution_count": 11,
     "metadata": {},
     "output_type": "execute_result"
    }
   ],
   "source": [
    "[get_album_info('https://pitchfork.com/reviews/albums/this-heat-repeatmetalmade-availablelive-80-81/')]"
   ]
  },
  {
   "cell_type": "code",
   "execution_count": null,
   "metadata": {},
   "outputs": [],
   "source": []
  }
 ],
 "metadata": {
  "kernelspec": {
   "display_name": "Python 3",
   "language": "python",
   "name": "python3"
  },
  "language_info": {
   "codemirror_mode": {
    "name": "ipython",
    "version": 3
   },
   "file_extension": ".py",
   "mimetype": "text/x-python",
   "name": "python",
   "nbconvert_exporter": "python",
   "pygments_lexer": "ipython3",
   "version": "3.7.2"
  }
 },
 "nbformat": 4,
 "nbformat_minor": 2
}
