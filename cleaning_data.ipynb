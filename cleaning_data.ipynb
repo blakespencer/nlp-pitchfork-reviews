{
 "cells": [
  {
   "cell_type": "markdown",
   "metadata": {
    "ExecuteTime": {
     "end_time": "2019-04-11T20:32:27.712798Z",
     "start_time": "2019-04-11T20:32:27.650038Z"
    }
   },
   "source": [
    "### Natrual Language Processing Project:<br>An exploration into Ptichfork Music Reviews\n",
    "\n",
    "Blake Spencer<br>\n",
    "March 2019\n",
    "\n",
    "The goal of this project is to understand how music reivews are written, and see if there are differences between genres or how well the review is written.\n",
    "\n",
    "You can see my blog post about the project here:<br>\n",
    "https://blake-spencer-projects.herokuapp.com/nlp\n",
    "\n",
    "The main steps were: <br>\n",
    "\n",
    "1. [Scrape all 21000 reviews and save them in a CSV](https://github.com/blakespencer/nlp-pitchfork-reviews/blob/master/pitchfork_scrape.ipynb)\n",
    "2. **Clean the text** (this file)\n",
    "3. [Topic modeling by sentence](https://github.com/blakespencer/nlp-pitchfork-reviews/blob/master/topic_modeling.ipynb)\n",
    "4. [Visualize the Data](https://blake-spencer-projects.herokuapp.com/nlp)\n",
    "\n",
    "Each of the links above is a Jupyter Notebook file with Python code to complete each step.\n",
    "\n",
    "The Flask App backend:\n",
    "\n",
    "- [Flask app code in Python](https://github.com/blakespencer/personal-site-backend)\n",
    "\n",
    "The React App frontend:\n",
    "\n",
    "- [React app code in Javascript](https://github.com/blakespencer/personal-site-frontend)\n"
   ]
  },
  {
   "cell_type": "code",
   "execution_count": 34,
   "metadata": {
    "ExecuteTime": {
     "end_time": "2019-04-11T20:04:03.004451Z",
     "start_time": "2019-04-11T20:04:03.000095Z"
    }
   },
   "outputs": [],
   "source": [
    "import pandas as pd\n",
    "import numpy as np\n",
    "import pickle\n",
    "import numpy as np\n",
    "import nltk\n",
    "import re\n",
    "import string"
   ]
  },
  {
   "cell_type": "markdown",
   "metadata": {},
   "source": [
    "Load in all the different scraped data"
   ]
  },
  {
   "cell_type": "code",
   "execution_count": 2,
   "metadata": {
    "ExecuteTime": {
     "end_time": "2019-04-11T19:54:24.501022Z",
     "start_time": "2019-04-11T19:54:24.118278Z"
    }
   },
   "outputs": [],
   "source": [
    "df = pd.read_csv('./data/1_360.csv')"
   ]
  },
  {
   "cell_type": "code",
   "execution_count": 3,
   "metadata": {
    "ExecuteTime": {
     "end_time": "2019-04-11T19:54:25.357416Z",
     "start_time": "2019-04-11T19:54:25.354249Z"
    }
   },
   "outputs": [],
   "source": [
    "data_paths = ['361_720.csv', '721_1080.csv', '1081_1440.csv', '1441_1749.csv']"
   ]
  },
  {
   "cell_type": "code",
   "execution_count": 4,
   "metadata": {
    "ExecuteTime": {
     "end_time": "2019-04-11T19:54:27.552501Z",
     "start_time": "2019-04-11T19:54:26.717066Z"
    }
   },
   "outputs": [],
   "source": [
    "for path in data_paths:\n",
    "    df = df.append(pd.read_csv('./data/{}'.format(path)))"
   ]
  },
  {
   "cell_type": "code",
   "execution_count": 5,
   "metadata": {
    "ExecuteTime": {
     "end_time": "2019-04-11T19:54:28.083630Z",
     "start_time": "2019-04-11T19:54:28.074516Z"
    }
   },
   "outputs": [
    {
     "data": {
      "text/plain": [
       "20986"
      ]
     },
     "execution_count": 5,
     "metadata": {},
     "output_type": "execute_result"
    }
   ],
   "source": [
    "len(df)"
   ]
  },
  {
   "cell_type": "code",
   "execution_count": 6,
   "metadata": {
    "ExecuteTime": {
     "end_time": "2019-04-11T19:54:34.697718Z",
     "start_time": "2019-04-11T19:54:34.674201Z"
    }
   },
   "outputs": [
    {
     "data": {
      "text/html": [
       "<div>\n",
       "<style scoped>\n",
       "    .dataframe tbody tr th:only-of-type {\n",
       "        vertical-align: middle;\n",
       "    }\n",
       "\n",
       "    .dataframe tbody tr th {\n",
       "        vertical-align: top;\n",
       "    }\n",
       "\n",
       "    .dataframe thead th {\n",
       "        text-align: right;\n",
       "    }\n",
       "</style>\n",
       "<table border=\"1\" class=\"dataframe\">\n",
       "  <thead>\n",
       "    <tr style=\"text-align: right;\">\n",
       "      <th></th>\n",
       "      <th>ablum_score</th>\n",
       "      <th>album_year</th>\n",
       "      <th>artist</th>\n",
       "      <th>album_name</th>\n",
       "      <th>text</th>\n",
       "      <th>genres</th>\n",
       "      <th>review_date</th>\n",
       "    </tr>\n",
       "  </thead>\n",
       "  <tbody>\n",
       "    <tr>\n",
       "      <th>0</th>\n",
       "      <td>9.0</td>\n",
       "      <td>1998</td>\n",
       "      <td>Tortoise</td>\n",
       "      <td>TNT</td>\n",
       "      <td>Imagine a graphic showing all the bands the fi...</td>\n",
       "      <td>Experimental, Rock</td>\n",
       "      <td>February 17 2019</td>\n",
       "    </tr>\n",
       "    <tr>\n",
       "      <th>1</th>\n",
       "      <td>8.1</td>\n",
       "      <td>2019</td>\n",
       "      <td>Various Artists</td>\n",
       "      <td>Powder in Space</td>\n",
       "      <td>In the 19th century, as unions throughout Amer...</td>\n",
       "      <td>NaN</td>\n",
       "      <td>February 16 2019</td>\n",
       "    </tr>\n",
       "    <tr>\n",
       "      <th>2</th>\n",
       "      <td>5.6</td>\n",
       "      <td>2019</td>\n",
       "      <td>Perfect Son</td>\n",
       "      <td>Cast</td>\n",
       "      <td>Tobiasz Biliński’s Perfect Son is a descendant...</td>\n",
       "      <td>Rock</td>\n",
       "      <td>February 16 2019</td>\n",
       "    </tr>\n",
       "    <tr>\n",
       "      <th>3</th>\n",
       "      <td>7.3</td>\n",
       "      <td>2019</td>\n",
       "      <td>Black Taffy</td>\n",
       "      <td>Elder Mantis</td>\n",
       "      <td>Imagine if the Caretaker were more into RZA th...</td>\n",
       "      <td>Experimental</td>\n",
       "      <td>February 16 2019</td>\n",
       "    </tr>\n",
       "    <tr>\n",
       "      <th>4</th>\n",
       "      <td>7.0</td>\n",
       "      <td>2019</td>\n",
       "      <td>Ithaca</td>\n",
       "      <td>The Language of Injury</td>\n",
       "      <td>Ithaca’s debut is an invitation for whiplash. ...</td>\n",
       "      <td>Metal</td>\n",
       "      <td>February 16 2019</td>\n",
       "    </tr>\n",
       "  </tbody>\n",
       "</table>\n",
       "</div>"
      ],
      "text/plain": [
       "   ablum_score album_year           artist              album_name  \\\n",
       "0          9.0       1998         Tortoise                     TNT   \n",
       "1          8.1       2019  Various Artists         Powder in Space   \n",
       "2          5.6       2019      Perfect Son                    Cast   \n",
       "3          7.3       2019      Black Taffy            Elder Mantis   \n",
       "4          7.0       2019           Ithaca  The Language of Injury   \n",
       "\n",
       "                                                text              genres  \\\n",
       "0  Imagine a graphic showing all the bands the fi...  Experimental, Rock   \n",
       "1  In the 19th century, as unions throughout Amer...                 NaN   \n",
       "2  Tobiasz Biliński’s Perfect Son is a descendant...                Rock   \n",
       "3  Imagine if the Caretaker were more into RZA th...        Experimental   \n",
       "4  Ithaca’s debut is an invitation for whiplash. ...               Metal   \n",
       "\n",
       "        review_date  \n",
       "0  February 17 2019  \n",
       "1  February 16 2019  \n",
       "2  February 16 2019  \n",
       "3  February 16 2019  \n",
       "4  February 16 2019  "
      ]
     },
     "execution_count": 6,
     "metadata": {},
     "output_type": "execute_result"
    }
   ],
   "source": [
    "df.head()"
   ]
  },
  {
   "cell_type": "code",
   "execution_count": 7,
   "metadata": {
    "ExecuteTime": {
     "end_time": "2019-04-11T19:54:36.143872Z",
     "start_time": "2019-04-11T19:54:36.139138Z"
    }
   },
   "outputs": [],
   "source": [
    "columns = list(df.columns)"
   ]
  },
  {
   "cell_type": "code",
   "execution_count": 8,
   "metadata": {
    "ExecuteTime": {
     "end_time": "2019-04-11T19:54:40.889853Z",
     "start_time": "2019-04-11T19:54:40.886198Z"
    }
   },
   "outputs": [],
   "source": [
    "columns[0] = 'album_score'"
   ]
  },
  {
   "cell_type": "code",
   "execution_count": 9,
   "metadata": {
    "ExecuteTime": {
     "end_time": "2019-04-11T19:54:42.379119Z",
     "start_time": "2019-04-11T19:54:42.374348Z"
    }
   },
   "outputs": [],
   "source": [
    "df.columns = columns"
   ]
  },
  {
   "cell_type": "code",
   "execution_count": 11,
   "metadata": {
    "ExecuteTime": {
     "end_time": "2019-04-11T19:54:51.176269Z",
     "start_time": "2019-04-11T19:54:51.163110Z"
    }
   },
   "outputs": [
    {
     "data": {
      "text/html": [
       "<div>\n",
       "<style scoped>\n",
       "    .dataframe tbody tr th:only-of-type {\n",
       "        vertical-align: middle;\n",
       "    }\n",
       "\n",
       "    .dataframe tbody tr th {\n",
       "        vertical-align: top;\n",
       "    }\n",
       "\n",
       "    .dataframe thead th {\n",
       "        text-align: right;\n",
       "    }\n",
       "</style>\n",
       "<table border=\"1\" class=\"dataframe\">\n",
       "  <thead>\n",
       "    <tr style=\"text-align: right;\">\n",
       "      <th></th>\n",
       "      <th>album_score</th>\n",
       "      <th>album_year</th>\n",
       "      <th>artist</th>\n",
       "      <th>album_name</th>\n",
       "      <th>text</th>\n",
       "      <th>genres</th>\n",
       "      <th>review_date</th>\n",
       "    </tr>\n",
       "  </thead>\n",
       "  <tbody>\n",
       "    <tr>\n",
       "      <th>0</th>\n",
       "      <td>9.0</td>\n",
       "      <td>1998</td>\n",
       "      <td>Tortoise</td>\n",
       "      <td>TNT</td>\n",
       "      <td>Imagine a graphic showing all the bands the fi...</td>\n",
       "      <td>Experimental, Rock</td>\n",
       "      <td>February 17 2019</td>\n",
       "    </tr>\n",
       "    <tr>\n",
       "      <th>1</th>\n",
       "      <td>8.1</td>\n",
       "      <td>2019</td>\n",
       "      <td>Various Artists</td>\n",
       "      <td>Powder in Space</td>\n",
       "      <td>In the 19th century, as unions throughout Amer...</td>\n",
       "      <td>NaN</td>\n",
       "      <td>February 16 2019</td>\n",
       "    </tr>\n",
       "    <tr>\n",
       "      <th>2</th>\n",
       "      <td>5.6</td>\n",
       "      <td>2019</td>\n",
       "      <td>Perfect Son</td>\n",
       "      <td>Cast</td>\n",
       "      <td>Tobiasz Biliński’s Perfect Son is a descendant...</td>\n",
       "      <td>Rock</td>\n",
       "      <td>February 16 2019</td>\n",
       "    </tr>\n",
       "    <tr>\n",
       "      <th>3</th>\n",
       "      <td>7.3</td>\n",
       "      <td>2019</td>\n",
       "      <td>Black Taffy</td>\n",
       "      <td>Elder Mantis</td>\n",
       "      <td>Imagine if the Caretaker were more into RZA th...</td>\n",
       "      <td>Experimental</td>\n",
       "      <td>February 16 2019</td>\n",
       "    </tr>\n",
       "    <tr>\n",
       "      <th>4</th>\n",
       "      <td>7.0</td>\n",
       "      <td>2019</td>\n",
       "      <td>Ithaca</td>\n",
       "      <td>The Language of Injury</td>\n",
       "      <td>Ithaca’s debut is an invitation for whiplash. ...</td>\n",
       "      <td>Metal</td>\n",
       "      <td>February 16 2019</td>\n",
       "    </tr>\n",
       "  </tbody>\n",
       "</table>\n",
       "</div>"
      ],
      "text/plain": [
       "   album_score album_year           artist              album_name  \\\n",
       "0          9.0       1998         Tortoise                     TNT   \n",
       "1          8.1       2019  Various Artists         Powder in Space   \n",
       "2          5.6       2019      Perfect Son                    Cast   \n",
       "3          7.3       2019      Black Taffy            Elder Mantis   \n",
       "4          7.0       2019           Ithaca  The Language of Injury   \n",
       "\n",
       "                                                text              genres  \\\n",
       "0  Imagine a graphic showing all the bands the fi...  Experimental, Rock   \n",
       "1  In the 19th century, as unions throughout Amer...                 NaN   \n",
       "2  Tobiasz Biliński’s Perfect Son is a descendant...                Rock   \n",
       "3  Imagine if the Caretaker were more into RZA th...        Experimental   \n",
       "4  Ithaca’s debut is an invitation for whiplash. ...               Metal   \n",
       "\n",
       "        review_date  \n",
       "0  February 17 2019  \n",
       "1  February 16 2019  \n",
       "2  February 16 2019  \n",
       "3  February 16 2019  \n",
       "4  February 16 2019  "
      ]
     },
     "execution_count": 11,
     "metadata": {},
     "output_type": "execute_result"
    }
   ],
   "source": [
    "df.head()"
   ]
  },
  {
   "cell_type": "markdown",
   "metadata": {},
   "source": [
    "Create a highly_rated column"
   ]
  },
  {
   "cell_type": "code",
   "execution_count": 12,
   "metadata": {
    "ExecuteTime": {
     "end_time": "2019-04-11T19:54:51.810724Z",
     "start_time": "2019-04-11T19:54:51.803237Z"
    }
   },
   "outputs": [],
   "source": [
    "highly_rated = df['album_score'] >= 7"
   ]
  },
  {
   "cell_type": "code",
   "execution_count": 13,
   "metadata": {
    "ExecuteTime": {
     "end_time": "2019-04-11T19:54:52.781563Z",
     "start_time": "2019-04-11T19:54:52.777651Z"
    }
   },
   "outputs": [],
   "source": [
    "def is_highly_rated(row):\n",
    "    if(row == True):\n",
    "        return 1\n",
    "    return 0"
   ]
  },
  {
   "cell_type": "code",
   "execution_count": 14,
   "metadata": {
    "ExecuteTime": {
     "end_time": "2019-04-11T19:54:53.887907Z",
     "start_time": "2019-04-11T19:54:53.872354Z"
    }
   },
   "outputs": [],
   "source": [
    "df['highly_rated'] = highly_rated.transform(is_highly_rated)"
   ]
  },
  {
   "cell_type": "code",
   "execution_count": 15,
   "metadata": {
    "ExecuteTime": {
     "end_time": "2019-04-11T19:54:54.815785Z",
     "start_time": "2019-04-11T19:54:54.773046Z"
    }
   },
   "outputs": [],
   "source": [
    "count_nan = len(df) - df.count()"
   ]
  },
  {
   "cell_type": "code",
   "execution_count": 16,
   "metadata": {
    "ExecuteTime": {
     "end_time": "2019-04-11T19:54:56.026970Z",
     "start_time": "2019-04-11T19:54:56.021141Z"
    }
   },
   "outputs": [
    {
     "data": {
      "text/plain": [
       "album_score        0\n",
       "album_year         0\n",
       "artist             1\n",
       "album_name         3\n",
       "text               6\n",
       "genres          2302\n",
       "review_date        0\n",
       "highly_rated       0\n",
       "dtype: int64"
      ]
     },
     "execution_count": 16,
     "metadata": {},
     "output_type": "execute_result"
    }
   ],
   "source": [
    "count_nan"
   ]
  },
  {
   "cell_type": "code",
   "execution_count": 17,
   "metadata": {
    "ExecuteTime": {
     "end_time": "2019-04-11T19:54:57.484247Z",
     "start_time": "2019-04-11T19:54:57.461542Z"
    }
   },
   "outputs": [],
   "source": [
    "df = df.dropna(subset=['album_name', 'text', 'artist'])"
   ]
  },
  {
   "cell_type": "markdown",
   "metadata": {},
   "source": [
    "Replace NaN for genre"
   ]
  },
  {
   "cell_type": "code",
   "execution_count": 22,
   "metadata": {
    "ExecuteTime": {
     "end_time": "2019-04-11T19:55:28.654091Z",
     "start_time": "2019-04-11T19:55:28.650094Z"
    }
   },
   "outputs": [],
   "source": [
    "def is_nan(row):\n",
    "    if(type(row) == type(\"\")):\n",
    "        return False\n",
    "    return np.isnan(row)"
   ]
  },
  {
   "cell_type": "code",
   "execution_count": 23,
   "metadata": {
    "ExecuteTime": {
     "end_time": "2019-04-11T19:55:29.175635Z",
     "start_time": "2019-04-11T19:55:29.171191Z"
    }
   },
   "outputs": [],
   "source": [
    "def genre_nan_replace(row):\n",
    "    if(is_nan(row)):\n",
    "        return 'No Genre'\n",
    "    return row"
   ]
  },
  {
   "cell_type": "code",
   "execution_count": 24,
   "metadata": {
    "ExecuteTime": {
     "end_time": "2019-04-11T19:55:30.225724Z",
     "start_time": "2019-04-11T19:55:30.187886Z"
    }
   },
   "outputs": [],
   "source": [
    "df['genres'] = df['genres'].transform(genre_nan_replace)"
   ]
  },
  {
   "cell_type": "code",
   "execution_count": 27,
   "metadata": {
    "ExecuteTime": {
     "end_time": "2019-04-11T19:56:24.140858Z",
     "start_time": "2019-04-11T19:56:24.128899Z"
    }
   },
   "outputs": [
    {
     "data": {
      "text/html": [
       "<div>\n",
       "<style scoped>\n",
       "    .dataframe tbody tr th:only-of-type {\n",
       "        vertical-align: middle;\n",
       "    }\n",
       "\n",
       "    .dataframe tbody tr th {\n",
       "        vertical-align: top;\n",
       "    }\n",
       "\n",
       "    .dataframe thead th {\n",
       "        text-align: right;\n",
       "    }\n",
       "</style>\n",
       "<table border=\"1\" class=\"dataframe\">\n",
       "  <thead>\n",
       "    <tr style=\"text-align: right;\">\n",
       "      <th></th>\n",
       "      <th>album_score</th>\n",
       "      <th>album_year</th>\n",
       "      <th>artist</th>\n",
       "      <th>album_name</th>\n",
       "      <th>text</th>\n",
       "      <th>genres</th>\n",
       "      <th>review_date</th>\n",
       "      <th>highly_rated</th>\n",
       "    </tr>\n",
       "  </thead>\n",
       "  <tbody>\n",
       "    <tr>\n",
       "      <th>0</th>\n",
       "      <td>9.0</td>\n",
       "      <td>1998</td>\n",
       "      <td>Tortoise</td>\n",
       "      <td>TNT</td>\n",
       "      <td>Imagine a graphic showing all the bands the fi...</td>\n",
       "      <td>Experimental, Rock</td>\n",
       "      <td>February 17 2019</td>\n",
       "      <td>1</td>\n",
       "    </tr>\n",
       "    <tr>\n",
       "      <th>1</th>\n",
       "      <td>8.1</td>\n",
       "      <td>2019</td>\n",
       "      <td>Various Artists</td>\n",
       "      <td>Powder in Space</td>\n",
       "      <td>In the 19th century, as unions throughout Amer...</td>\n",
       "      <td>No Genre</td>\n",
       "      <td>February 16 2019</td>\n",
       "      <td>1</td>\n",
       "    </tr>\n",
       "    <tr>\n",
       "      <th>2</th>\n",
       "      <td>5.6</td>\n",
       "      <td>2019</td>\n",
       "      <td>Perfect Son</td>\n",
       "      <td>Cast</td>\n",
       "      <td>Tobiasz Biliński’s Perfect Son is a descendant...</td>\n",
       "      <td>Rock</td>\n",
       "      <td>February 16 2019</td>\n",
       "      <td>0</td>\n",
       "    </tr>\n",
       "    <tr>\n",
       "      <th>3</th>\n",
       "      <td>7.3</td>\n",
       "      <td>2019</td>\n",
       "      <td>Black Taffy</td>\n",
       "      <td>Elder Mantis</td>\n",
       "      <td>Imagine if the Caretaker were more into RZA th...</td>\n",
       "      <td>Experimental</td>\n",
       "      <td>February 16 2019</td>\n",
       "      <td>1</td>\n",
       "    </tr>\n",
       "    <tr>\n",
       "      <th>4</th>\n",
       "      <td>7.0</td>\n",
       "      <td>2019</td>\n",
       "      <td>Ithaca</td>\n",
       "      <td>The Language of Injury</td>\n",
       "      <td>Ithaca’s debut is an invitation for whiplash. ...</td>\n",
       "      <td>Metal</td>\n",
       "      <td>February 16 2019</td>\n",
       "      <td>1</td>\n",
       "    </tr>\n",
       "  </tbody>\n",
       "</table>\n",
       "</div>"
      ],
      "text/plain": [
       "   album_score album_year           artist              album_name  \\\n",
       "0          9.0       1998         Tortoise                     TNT   \n",
       "1          8.1       2019  Various Artists         Powder in Space   \n",
       "2          5.6       2019      Perfect Son                    Cast   \n",
       "3          7.3       2019      Black Taffy            Elder Mantis   \n",
       "4          7.0       2019           Ithaca  The Language of Injury   \n",
       "\n",
       "                                                text              genres  \\\n",
       "0  Imagine a graphic showing all the bands the fi...  Experimental, Rock   \n",
       "1  In the 19th century, as unions throughout Amer...            No Genre   \n",
       "2  Tobiasz Biliński’s Perfect Son is a descendant...                Rock   \n",
       "3  Imagine if the Caretaker were more into RZA th...        Experimental   \n",
       "4  Ithaca’s debut is an invitation for whiplash. ...               Metal   \n",
       "\n",
       "        review_date  highly_rated  \n",
       "0  February 17 2019             1  \n",
       "1  February 16 2019             1  \n",
       "2  February 16 2019             0  \n",
       "3  February 16 2019             1  \n",
       "4  February 16 2019             1  "
      ]
     },
     "execution_count": 27,
     "metadata": {},
     "output_type": "execute_result"
    }
   ],
   "source": [
    "df.head()"
   ]
  },
  {
   "cell_type": "code",
   "execution_count": 28,
   "metadata": {
    "ExecuteTime": {
     "end_time": "2019-04-11T19:56:44.800748Z",
     "start_time": "2019-04-11T19:56:44.791692Z"
    }
   },
   "outputs": [
    {
     "data": {
      "text/plain": [
       "1    0.622235\n",
       "0    0.377765\n",
       "Name: highly_rated, dtype: float64"
      ]
     },
     "execution_count": 28,
     "metadata": {},
     "output_type": "execute_result"
    }
   ],
   "source": [
    "df.highly_rated.value_counts(normalize=True)"
   ]
  },
  {
   "cell_type": "markdown",
   "metadata": {},
   "source": [
    "Creating a custom artist list to replace names"
   ]
  },
  {
   "cell_type": "code",
   "execution_count": 29,
   "metadata": {
    "ExecuteTime": {
     "end_time": "2019-04-11T19:56:55.144482Z",
     "start_time": "2019-04-11T19:56:55.132828Z"
    }
   },
   "outputs": [],
   "source": [
    "artists = list(df['artist'].unique())\n",
    "artists.append('Joey Bada')\n",
    "artists.append('Smashing Pumpkins')\n",
    "artists.append('Jimi Hendrix')\n",
    "artists.append('Jane s Addiction')\n",
    "artists.append('Bob Marley')"
   ]
  },
  {
   "cell_type": "markdown",
   "metadata": {},
   "source": [
    "For NLP, I need to concatenate the artists' names as well a replace when they are referenced by their last name <br>\n",
    "So if the artist's full name appears in the document replace every reference. There are exceptions when sometimes they refer to the artist by the first name later rather than the last name"
   ]
  },
  {
   "cell_type": "code",
   "execution_count": 31,
   "metadata": {
    "ExecuteTime": {
     "end_time": "2019-04-11T20:02:44.168921Z",
     "start_time": "2019-04-11T20:02:44.160528Z"
    }
   },
   "outputs": [],
   "source": [
    "def replace_artist_name(text, artists=artists):\n",
    "    text = text.replace('\\n', '')\n",
    "    for artist in artists:\n",
    "        if artist + ' ' in text:\n",
    "            artist_name = artist.replace(' ', '')\n",
    "            words = artist.split()\n",
    "            text = text.replace(artist + ' ', artist_name + ' ')\n",
    "            if(len(words) == 2):\n",
    "                text = text.replace(words[1] + ' ', artist_name + \" \")\n",
    "                if(words[0] != 'The' or 'the'):\n",
    "                    text = text.replace(words[0] + ' ', artist_name + ' ')\n",
    "            text = text.replace(words[0]+artist_name, artist_name)\n",
    "    return text"
   ]
  },
  {
   "cell_type": "markdown",
   "metadata": {},
   "source": [
    "Create functions to get rid of punctuation as well as lower, plus get rid of \"'s\" so it easier to clean artist's name"
   ]
  },
  {
   "cell_type": "code",
   "execution_count": 32,
   "metadata": {
    "ExecuteTime": {
     "end_time": "2019-04-11T20:03:57.244440Z",
     "start_time": "2019-04-11T20:03:57.239359Z"
    }
   },
   "outputs": [],
   "source": [
    "alphanumeric = lambda x: re.sub('\\w*\\d\\w*', ' ', x)\n",
    "punc = lambda x: re.sub('[%s]' % re.escape(string.punctuation), ' ', x)\n",
    "lower = lambda x: x.lower()\n",
    "no_apostrophy_s = lambda x: re.sub(\"’s\",'', x)"
   ]
  },
  {
   "cell_type": "code",
   "execution_count": 35,
   "metadata": {
    "ExecuteTime": {
     "end_time": "2019-04-11T20:17:36.996284Z",
     "start_time": "2019-04-11T20:04:05.544135Z"
    }
   },
   "outputs": [],
   "source": [
    "df['text_clean'] = df.text.map(alphanumeric).map(punc).map(no_apostrophy_s).map(replace_artist_name).map(lower)"
   ]
  },
  {
   "cell_type": "code",
   "execution_count": 36,
   "metadata": {
    "ExecuteTime": {
     "end_time": "2019-04-11T20:17:37.098792Z",
     "start_time": "2019-04-11T20:17:37.017236Z"
    }
   },
   "outputs": [
    {
     "data": {
      "text/html": [
       "<div>\n",
       "<style scoped>\n",
       "    .dataframe tbody tr th:only-of-type {\n",
       "        vertical-align: middle;\n",
       "    }\n",
       "\n",
       "    .dataframe tbody tr th {\n",
       "        vertical-align: top;\n",
       "    }\n",
       "\n",
       "    .dataframe thead th {\n",
       "        text-align: right;\n",
       "    }\n",
       "</style>\n",
       "<table border=\"1\" class=\"dataframe\">\n",
       "  <thead>\n",
       "    <tr style=\"text-align: right;\">\n",
       "      <th></th>\n",
       "      <th>album_score</th>\n",
       "      <th>album_year</th>\n",
       "      <th>artist</th>\n",
       "      <th>album_name</th>\n",
       "      <th>text</th>\n",
       "      <th>genres</th>\n",
       "      <th>review_date</th>\n",
       "      <th>highly_rated</th>\n",
       "      <th>text_clean</th>\n",
       "    </tr>\n",
       "  </thead>\n",
       "  <tbody>\n",
       "    <tr>\n",
       "      <th>0</th>\n",
       "      <td>9.0</td>\n",
       "      <td>1998</td>\n",
       "      <td>Tortoise</td>\n",
       "      <td>TNT</td>\n",
       "      <td>Imagine a graphic showing all the bands the fi...</td>\n",
       "      <td>Experimental, Rock</td>\n",
       "      <td>February 17 2019</td>\n",
       "      <td>1</td>\n",
       "      <td>imagine a graphic showing all the bands the fi...</td>\n",
       "    </tr>\n",
       "    <tr>\n",
       "      <th>1</th>\n",
       "      <td>8.1</td>\n",
       "      <td>2019</td>\n",
       "      <td>Various Artists</td>\n",
       "      <td>Powder in Space</td>\n",
       "      <td>In the 19th century, as unions throughout Amer...</td>\n",
       "      <td>No Genre</td>\n",
       "      <td>February 16 2019</td>\n",
       "      <td>1</td>\n",
       "      <td>in the   century  as unions throughout america...</td>\n",
       "    </tr>\n",
       "  </tbody>\n",
       "</table>\n",
       "</div>"
      ],
      "text/plain": [
       "   album_score album_year           artist       album_name  \\\n",
       "0          9.0       1998         Tortoise              TNT   \n",
       "1          8.1       2019  Various Artists  Powder in Space   \n",
       "\n",
       "                                                text              genres  \\\n",
       "0  Imagine a graphic showing all the bands the fi...  Experimental, Rock   \n",
       "1  In the 19th century, as unions throughout Amer...            No Genre   \n",
       "\n",
       "        review_date  highly_rated  \\\n",
       "0  February 17 2019             1   \n",
       "1  February 16 2019             1   \n",
       "\n",
       "                                          text_clean  \n",
       "0  imagine a graphic showing all the bands the fi...  \n",
       "1  in the   century  as unions throughout america...  "
      ]
     },
     "execution_count": 36,
     "metadata": {},
     "output_type": "execute_result"
    }
   ],
   "source": [
    "df.head(2)"
   ]
  },
  {
   "cell_type": "code",
   "execution_count": 40,
   "metadata": {
    "ExecuteTime": {
     "end_time": "2019-04-11T21:02:08.631650Z",
     "start_time": "2019-04-11T21:02:06.688781Z"
    }
   },
   "outputs": [],
   "source": [
    "with open('df_clean.pkl', 'wb') as picklefile:\n",
    "    pickle.dump(df, picklefile)"
   ]
  },
  {
   "cell_type": "code",
   "execution_count": null,
   "metadata": {},
   "outputs": [],
   "source": []
  }
 ],
 "metadata": {
  "kernelspec": {
   "display_name": "Python 3",
   "language": "python",
   "name": "python3"
  },
  "language_info": {
   "codemirror_mode": {
    "name": "ipython",
    "version": 3
   },
   "file_extension": ".py",
   "mimetype": "text/x-python",
   "name": "python",
   "nbconvert_exporter": "python",
   "pygments_lexer": "ipython3",
   "version": "3.7.2"
  }
 },
 "nbformat": 4,
 "nbformat_minor": 2
}
